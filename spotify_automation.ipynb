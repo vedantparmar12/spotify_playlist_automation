{
 "cells": [
  {
   "cell_type": "code",
   "execution_count": 1,
   "id": "675a8a3e",
   "metadata": {},
   "outputs": [],
   "source": [
    "import requests\n",
    "import spotipy\n",
    "from spotipy.oauth2 import SpotifyOAuth\n",
    "from bs4 import BeautifulSoup"
   ]
  },
  {
   "cell_type": "code",
   "execution_count": 2,
   "id": "dacfd688",
   "metadata": {},
   "outputs": [
    {
     "name": "stdout",
     "output_type": "stream",
     "text": [
      "Collecting spotipy\n",
      "  Obtaining dependency information for spotipy from https://files.pythonhosted.org/packages/ea/35/304e456a471128aa4a776243558f43aee3444731ef8fc9bc8c351fddfdd8/spotipy-2.24.0-py3-none-any.whl.metadata\n",
      "  Downloading spotipy-2.24.0-py3-none-any.whl.metadata (4.9 kB)\n",
      "Collecting redis>=3.5.3 (from spotipy)\n",
      "  Obtaining dependency information for redis>=3.5.3 from https://files.pythonhosted.org/packages/65/f2/540ad07910732733138beb192991c67c69e7f6ebf549ce1a3a77846cbae7/redis-5.0.4-py3-none-any.whl.metadata\n",
      "  Downloading redis-5.0.4-py3-none-any.whl.metadata (9.3 kB)\n",
      "Requirement already satisfied: requests>=2.25.0 in c:\\users\\vedan\\anaconda3\\lib\\site-packages (from spotipy) (2.31.0)\n",
      "Requirement already satisfied: urllib3>=1.26.0 in c:\\users\\vedan\\anaconda3\\lib\\site-packages (from spotipy) (1.26.16)\n",
      "Requirement already satisfied: charset-normalizer<4,>=2 in c:\\users\\vedan\\anaconda3\\lib\\site-packages (from requests>=2.25.0->spotipy) (2.0.4)\n",
      "Requirement already satisfied: idna<4,>=2.5 in c:\\users\\vedan\\anaconda3\\lib\\site-packages (from requests>=2.25.0->spotipy) (3.4)\n",
      "Requirement already satisfied: certifi>=2017.4.17 in c:\\users\\vedan\\anaconda3\\lib\\site-packages (from requests>=2.25.0->spotipy) (2023.7.22)\n",
      "Downloading spotipy-2.24.0-py3-none-any.whl (30 kB)\n",
      "Downloading redis-5.0.4-py3-none-any.whl (251 kB)\n",
      "   ---------------------------------------- 0.0/252.0 kB ? eta -:--:--\n",
      "   ------------- -------------------------- 81.9/252.0 kB 2.3 MB/s eta 0:00:01\n",
      "   ---------------------------------------- 252.0/252.0 kB 3.9 MB/s eta 0:00:00\n",
      "Installing collected packages: redis, spotipy\n",
      "Successfully installed redis-5.0.4 spotipy-2.24.0\n"
     ]
    }
   ],
   "source": [
    "!pip install spotipy"
   ]
  },
  {
   "cell_type": "code",
   "execution_count": 2,
   "id": "9c8ca55b",
   "metadata": {},
   "outputs": [],
   "source": [
    "ClientID = \"db5ac1e351534bee806b21ee101ffc71\"\n",
    "ClientSecret = \"88d1c100ebe743ce8920e682b345bf41\"\n",
    "Redirect_Uri = \"http://example.com/callback/\"\n",
    "URL_Billboard = \"https://www.billboard.com/charts/hot-100/\"\n",
    "class_name =\"c-label a-no-trucate a-font-primary-s lrv-u-font-size-14@mobile-max u-line-height-normal@mobile-max u-letter-spacing-0021 lrv-u-display-block a-truncate-ellipsis-2line u-max-width-330 u-max-width-230@tablet-only\""
   ]
  },
  {
   "cell_type": "markdown",
   "id": "6b70b2b3",
   "metadata": {},
   "source": [
    "# =============== Top 100 Billboard Web scraping ========="
   ]
  },
  {
   "cell_type": "code",
   "execution_count": 3,
   "id": "0c97e033",
   "metadata": {},
   "outputs": [],
   "source": [
    "date = \"2001-10-03\"\n",
    "'''date = input(\"Which year do you want to travel to? Type the date in this format YYYY-MM-DD: \")'''\n",
    "url = URL_Billboard + date\n",
    "response = requests.get(url)\n",
    "soup = BeautifulSoup(response.text, \"html.parser\")\n",
    "\n",
    "songs_list = [song.getText().strip('\\n') for song in soup.select(\"div ul li ul li h3\")]\n",
    "tag = soup.select(\"div ul li ul li span\")\n",
    "artists_list = [tag[i].getText().strip('\\n') for i in range(0, 700, 7)]\n",
    "songs_artists = list(zip(songs_list, artists_list))"
   ]
  },
  {
   "cell_type": "markdown",
   "id": "5c3914de",
   "metadata": {},
   "source": [
    "# ================ Spotify Authentication ================"
   ]
  },
  {
   "cell_type": "code",
   "execution_count": 4,
   "id": "fc03d1f6",
   "metadata": {},
   "outputs": [
    {
     "name": "stdout",
     "output_type": "stream",
     "text": [
      "Enter the URL you were redirected to: https://example.com/callback/?code=AQCeFjUokriFfvS97bJKPIYUlgK-nibPk6mpnnmERIYHi9jJWxg5tmG_3Fcb0qPkj22iYcsxkRXPubOjJVfjR9tX9rJbl3c-f2XQ8t6aYWHtra9vhaxe9Wndd_cDkqMAmfd_-c2Qz2hist4ajGziG3CtbAnle8isA3TCd6mAhUIAnjr1QSr3ERBVDzYXr58FTEIaA55YQpWD\n"
     ]
    }
   ],
   "source": [
    "sp = spotipy.Spotify(\n",
    "auth_manager=SpotifyOAuth(\n",
    "scope=\"playlist-modify-private\",\n",
    "client_id=ClientID,\n",
    "client_secret=ClientSecret,\n",
    "redirect_uri=Redirect_Uri,\n",
    "show_dialog=True,\n",
    "cache_path=\"token.txt\"\n",
    ")\n",
    ")\n",
    "user_id = sp.current_user()[\"id\"]"
   ]
  },
  {
   "cell_type": "markdown",
   "id": "548c564e",
   "metadata": {},
   "source": [
    "# ======= Searching Spotify for songs_list by title ======"
   ]
  },
  {
   "cell_type": "code",
   "execution_count": 6,
   "id": "72fb92c0",
   "metadata": {},
   "outputs": [
    {
     "name": "stdout",
     "output_type": "stream",
     "text": [
      "Fallin' - Alicia Keys\n",
      "I'm Real (feat. Ja Rule) - Jennifer Lopez\n",
      "Where the Party At (feat. Nelly) - Jagged Edge\n",
      "Hit 'Em Up Style (Oops!) - Blu Cantrell\n",
      "Family Affair - Mary J. Blige\n",
      "It's Been Awhile - Staind\n",
      "U Remind Me - USHER\n",
      "Let Me Blow Ya Mind - Eve\n",
      "Izzo (H.O.V.A.) - JAY-Z\n",
      "Someone To Call My Lover - Janet Jackson\n",
      "Differences - Ginuwine\n",
      "You Rock My World - Michael Jackson\n",
      "Hanging By A Moment - Lifehouse\n",
      "Drops of Jupiter (Tell Me) - Train\n",
      "One Minute Man (feat. Ludacris) - Missy Elliott\n",
      "Fill Me In - Craig David\n",
      "I'm a Thug - Trick Daddy\n",
      "Only Time - Enya\n",
      "Livin' It Up - Ja Rule\n",
      "When It's Over - Remastered - Sugar Ray\n",
      "Peaches & Cream - 112\n",
      "Ugly - Bubba Sparxxx\n",
      "Rock The Boat - Aaliyah\n",
      "Everywhere - Michelle Branch\n",
      "Can't Deny It (feat. Nate Dogg) - Fabolous\n",
      "Drive - Incubus\n",
      "Hero - Enrique Iglesias\n",
      "All or Nothing - O-Town\n",
      "AM To PM - Christina Milian\n",
      "Be Like That - 3 Doors Down\n",
      "Turn Off The Light - Nelly Furtado\n",
      "Contagious - The Isley Brothers\n",
      "What I Really Meant To Say - Cyndi Thomson\n",
      "Where I Come From - Alan Jackson\n",
      "Only In America - Brooks & Dunn\n",
      "The Space Between - Dave Matthews Band\n",
      "Feelin' on Yo Booty - The Session Boys\n",
      "Smooth Criminal - Alien Ant Farm\n",
      "Follow Me - Uncle Kracker\n",
      "Raise Up - Petey Pablo\n",
      "Austin - Blake Shelton\n",
      "Lifetime - Remastered 2021 - Maxwell\n",
      "Angry All The Time - Tim McGraw\n",
      "I Would've Loved You Anyway - Trisha Yearwood\n",
      "I Do!! - Toya\n",
      "Everytime - Choo\n",
      "I'm Just Talkin' About Tonight - Toby Keith\n",
      "Area Codes - Ludacris\n",
      "Superman (It's Not Easy) - Five For Fighting\n",
      "Thank You - Dido\n",
      "What's Going On - Featuring Chuck D - Dupri Original Mix - Artists Against AIDS Worldwide\n",
      "Gone - *NSYNC\n",
      "How You Remind Me - Nickelback\n",
      "God Bless The U.S.A. - Various Artists\n",
      "I'm A Believer - Radio Edit - Smash Mouth\n",
      "Emotion - Destiny's Child\n",
      "Dance With Me - 112\n",
      "Stuck In A Moment You Can't Get Out Of - U2\n",
      "U Got It Bad - USHER\n",
      "Complicated - Carolyn Dawn Johnson\n",
      "Because I Got High - Afroman\n",
      "On a Night Like This - Trick Pony\n",
      "Start the Commotion - The Wiseguys\n",
      "Love Of My Life - Brian McKnight\n",
      "Love of a Woman - Travis Tritt\n",
      "Here's to the Night - Eve 6\n",
      "Just in Case - Jaheim\n",
      "Clint Eastwood - Gorillaz\n",
      "When God-Fearin' Women Get The Blues - Martina McBride\n",
      "You Gets No Love - Remix; feat. G. Dep - Various Artists\n",
      "What Am I Gonna Do - Tyrese\n",
      "I'm A Survivor - Reba McEntire\n",
      "Wish You Were Here - Incubus\n",
      "The Way (2020 Remastered) - Jill Scott\n",
      "Set It Off - JUVENILE\n",
      "Bad Boy for Life - Diddy\n",
      "Schism - TOOL\n",
      "I Wanna Be Bad - Willa Ford\n",
      "Angels In Waiting - Tammy Cochran\n",
      "When I Think About Angels 2.0 - Jamie O'Neal\n",
      "Where The Blacktop Ends - Keith Urban\n",
      "Fat Lip - Sum 41\n",
      "Bad Day - Fuel\n",
      "Six-Pack Summer - Phil Vassar\n",
      "There You'll Be - 2007 Remaster - Faith Hill\n",
      "Crawling - Linkin Park\n",
      "Flavor Of The Weak - American Hi-Fi\n",
      "L'Amour Toujours - Gigi D'Agostino\n",
      "Take You Out - Radio Edit - Luther Vandross\n",
      "Bootylicious - Destiny's Child\n",
      "What If - Urban Mix - Babyface\n",
      "Music (feat. Marvin Gaye) - Erick Sermon\n",
      "Girl Next Door - Musiq Soulchild\n",
      "Do U Wanna Roll (Dolittle Theme) - Radio Edit (With Intro) - RL\n",
      "John Doe featuring MZ Lelee - Public Announcement\n",
      "More Than That - Backstreet Boys\n",
      "The Star Spangled Banner (feat. The Florida Orchestra) - Live from Super Bowl XXV - Whitney Houston\n",
      "Shine - Various Artists\n",
      "Castles In The Sky - Various Artists\n",
      "We Need A Resolution (feat. Timbaland) - Aaliyah\n"
     ]
    }
   ],
   "source": [
    "song_uris = []\n",
    "#year = date[:4]\n",
    "for n in range(len(songs_artists)):\n",
    "    track = songs_artists[n][0].strip()\n",
    "    artist = songs_artists[n][1].strip()\n",
    "    spotify_result = sp.search(q=f\"track:{songs_artists[n][0]} artist: {songs_artists[n][1]}\", market=\"US\", type=\"track\")\n",
    "    song_name = spotify_result[\"tracks\"][\"items\"][0][\"name\"]\n",
    "    singer_name = spotify_result[\"tracks\"][\"items\"][0][\"album\"][\"artists\"][0][\"name\"]\n",
    "    song_uri = spotify_result[\"tracks\"][\"items\"][0][\"uri\"]\n",
    "    try:\n",
    "        song_uris.append(song_uri)\n",
    "        print(f\"{song_name} - {singer_name}\")\n",
    "        # print(\"Song finding✔\")\n",
    "    except IndexError:\n",
    "        print(f\"{track} doesn't exist in Spotify. Skipped.\")\n"
   ]
  },
  {
   "cell_type": "markdown",
   "id": "162e8bb4",
   "metadata": {},
   "source": [
    "# ==== Searching Spotify for if there is a missing_songs in our list ===="
   ]
  },
  {
   "cell_type": "code",
   "execution_count": 9,
   "id": "52011ba3",
   "metadata": {},
   "outputs": [
    {
     "name": "stdout",
     "output_type": "stream",
     "text": [
      "Fallin' - Alicia Keys\n",
      "I'm Real (feat. Ja Rule) - Jennifer Lopez\n",
      "Where the Party At (feat. Nelly) - Jagged Edge\n",
      "Hit 'Em Up Style (Oops!) - Blu Cantrell\n",
      "Family Affair - Mary J. Blige\n",
      "It's Been Awhile - Staind\n",
      "U Remind Me - USHER\n",
      "Let Me Blow Ya Mind - Eve\n",
      "Izzo (H.O.V.A.) - JAY-Z\n",
      "Someone To Call My Lover - Janet Jackson\n",
      "Differences - Ginuwine\n",
      "You Rock My World - Michael Jackson\n",
      "Hanging By A Moment - Lifehouse\n",
      "Drops of Jupiter (Tell Me) - Train\n",
      "One Minute Man (feat. Ludacris) - Missy Elliott\n",
      "Fill Me In - Craig David\n",
      "I'm a Thug - Trick Daddy\n",
      "Only Time - Enya\n",
      "Livin' It Up - Ja Rule\n",
      "When It's Over - Remastered - Sugar Ray\n",
      "Peaches & Cream - 112\n",
      "Ugly - Bubba Sparxxx\n",
      "Rock The Boat - Aaliyah\n",
      "Everywhere - Michelle Branch\n",
      "Can't Deny It (feat. Nate Dogg) - Fabolous\n",
      "Drive - Incubus\n",
      "Hero - Enrique Iglesias\n",
      "All or Nothing - O-Town\n",
      "AM To PM - Christina Milian\n",
      "Be Like That - 3 Doors Down\n",
      "Turn Off The Light - Nelly Furtado\n",
      "Contagious - The Isley Brothers\n",
      "What I Really Meant To Say - Cyndi Thomson\n",
      "Where I Come From - Alan Jackson\n",
      "Only In America - Brooks & Dunn\n",
      "The Space Between - Dave Matthews Band\n",
      "Feelin' on Yo Booty - The Session Boys\n",
      "Smooth Criminal - Alien Ant Farm\n",
      "Follow Me - Uncle Kracker\n",
      "Raise Up - Petey Pablo\n",
      "Austin - Blake Shelton\n",
      "Lifetime - Remastered 2021 - Maxwell\n",
      "Angry All The Time - Tim McGraw\n",
      "I Would've Loved You Anyway - Trisha Yearwood\n",
      "I Do!! - Toya\n",
      "Everytime - Choo\n",
      "I'm Just Talkin' About Tonight - Toby Keith\n",
      "Area Codes - Ludacris\n",
      "Superman (It's Not Easy) - Five For Fighting\n",
      "Thank You - Dido\n",
      "What's Going On - Featuring Chuck D - Dupri Original Mix - Artists Against AIDS Worldwide\n",
      "Gone - *NSYNC\n",
      "How You Remind Me - Nickelback\n",
      "God Bless The U.S.A. - Various Artists\n",
      "I'm A Believer - Radio Edit - Smash Mouth\n",
      "Emotion - Destiny's Child\n",
      "Dance With Me - 112\n",
      "Stuck In A Moment You Can't Get Out Of - U2\n",
      "U Got It Bad - USHER\n",
      "Complicated - Carolyn Dawn Johnson\n",
      "Because I Got High - Afroman\n",
      "On a Night Like This - Trick Pony\n",
      "Start the Commotion - The Wiseguys\n",
      "Love Of My Life - Brian McKnight\n",
      "Love of a Woman - Travis Tritt\n",
      "Here's to the Night - Eve 6\n",
      "Just in Case - Jaheim\n",
      "Clint Eastwood - Gorillaz\n",
      "When God-Fearin' Women Get The Blues - Martina McBride\n",
      "You Gets No Love - Remix; feat. G. Dep - Various Artists\n",
      "What Am I Gonna Do - Tyrese\n",
      "I'm A Survivor - Reba McEntire\n",
      "Wish You Were Here - Incubus\n",
      "The Way (2020 Remastered) - Jill Scott\n",
      "Set It Off - JUVENILE\n",
      "Bad Boy for Life - Diddy\n",
      "Schism - TOOL\n",
      "I Wanna Be Bad - Willa Ford\n",
      "Angels In Waiting - Tammy Cochran\n",
      "When I Think About Angels 2.0 - Jamie O'Neal\n",
      "Where The Blacktop Ends - Keith Urban\n",
      "Fat Lip - Sum 41\n",
      "Bad Day - Fuel\n",
      "Six-Pack Summer - Phil Vassar\n",
      "There You'll Be - 2007 Remaster - Faith Hill\n",
      "Crawling - Linkin Park\n",
      "Flavor Of The Weak - American Hi-Fi\n",
      "L'Amour Toujours - Gigi D'Agostino\n",
      "Take You Out - Radio Edit - Luther Vandross\n",
      "Bootylicious - Destiny's Child\n",
      "What If - Urban Mix - Babyface\n",
      "Music (feat. Marvin Gaye) - Erick Sermon\n",
      "Girl Next Door - Musiq Soulchild\n",
      "Do U Wanna Roll (Dolittle Theme) - Radio Edit (With Intro) - RL\n",
      "John Doe featuring MZ Lelee - Public Announcement\n",
      "More Than That - Backstreet Boys\n",
      "The Star Spangled Banner (feat. The Florida Orchestra) - Live from Super Bowl XXV - Whitney Houston\n",
      "Shine - Various Artists\n",
      "Castles In The Sky - Various Artists\n",
      "We Need A Resolution (feat. Timbaland) - Aaliyah\n"
     ]
    }
   ],
   "source": [
    "'''import json\n",
    "\n",
    "song_uris = []\n",
    "missing_songs = []\n",
    "#year = date[:4]\n",
    "for n in range(len(songs_artists)):\n",
    "    track = songs_artists[n][0].strip()\n",
    "    artist = songs_artists[n][1].strip()\n",
    "    spotify_result = sp.search(q=f\"track:{songs_artists[n][0]} artist: {songs_artists[n][1]}\", market=\"US\", type=\"track\")\n",
    "    song_name = spotify_result[\"tracks\"][\"items\"][0][\"name\"]\n",
    "    singer_name = spotify_result[\"tracks\"][\"items\"][0][\"album\"][\"artists\"][0][\"name\"]\n",
    "    song_uri = spotify_result[\"tracks\"][\"items\"][0][\"uri\"]\n",
    "    try:\n",
    "        song_uris.append(song_uri)\n",
    "        print(f\"{song_name} - {singer_name}\")\n",
    "        # print(\"Song finding✔\")\n",
    "    except IndexError:\n",
    "        missing_songs.append({\"track\": track, \"artist\": artist})\n",
    "        print(f\"{track} doesn't exist in Spotify. Skipped.\")\n",
    "\n",
    "# Write the missing songs to a JSON file\n",
    "with open('missing_songs.json', 'w') as f:\n",
    "    json.dump(missing_songs, f)'''\n"
   ]
  },
  {
   "cell_type": "markdown",
   "id": "5f680e6e",
   "metadata": {},
   "source": [
    "# ====== Creating a new private playlist in Spotify ======"
   ]
  },
  {
   "cell_type": "code",
   "execution_count": 7,
   "id": "bc2ea39f",
   "metadata": {},
   "outputs": [],
   "source": [
    "playlist = sp.user_playlist_create(user=user_id, name=f\"{date} Billboard 100\", collaborative=False, public=False)"
   ]
  },
  {
   "cell_type": "markdown",
   "id": "feb005ed",
   "metadata": {},
   "source": [
    "# ======= Adding songs found into the new playlist ======="
   ]
  },
  {
   "cell_type": "code",
   "execution_count": 8,
   "id": "f77620ec",
   "metadata": {},
   "outputs": [
    {
     "data": {
      "text/plain": [
       "'\\nsong_uris = []\\n#year = date[:4]\\nfor n in range(len(songs_artists)):\\nspotify_result = sp.search(q=f\"track:{songs_artists[n][0]} artist: {songs_artists[n][1]}\", market=\"US\", type=\"track\")\\nspotify_res = spotify_result[\"tracks\"][\"items\"]\\ntrack = songs_artists[n][0].strip()\\nartist = songs_artists[n][1].strip()\\nt_flag = False\\nr = 0\\nfor song in spotify_res:\\nsong_name = song[\"name\"]\\nsinger_name = song[\"album\"][\"artists\"][0][\"name\"]\\nsong_uri = song[\"uri\"]\\nif singer_name.lower() in artist.lower() and not t_flag:\\nsong_uris.append(song_uri)\\nt_flag = True\\nelse:\\nr += 1\\nif r >= 10:\\nprint(track, \" Not found\")\\npass\\n'"
      ]
     },
     "execution_count": 8,
     "metadata": {},
     "output_type": "execute_result"
    }
   ],
   "source": [
    "sp.playlist_add_items(playlist_id=playlist[\"id\"], items=song_uris)\n",
    "\n",
    "'''\n",
    "song_uris = []\n",
    "#year = date[:4]\n",
    "for n in range(len(songs_artists)):\n",
    "spotify_result = sp.search(q=f\"track:{songs_artists[n][0]} artist: {songs_artists[n][1]}\", market=\"US\", type=\"track\")\n",
    "spotify_res = spotify_result[\"tracks\"][\"items\"]\n",
    "track = songs_artists[n][0].strip()\n",
    "artist = songs_artists[n][1].strip()\n",
    "t_flag = False\n",
    "r = 0\n",
    "for song in spotify_res:\n",
    "song_name = song[\"name\"]\n",
    "singer_name = song[\"album\"][\"artists\"][0][\"name\"]\n",
    "song_uri = song[\"uri\"]\n",
    "if singer_name.lower() in artist.lower() and not t_flag:\n",
    "song_uris.append(song_uri)\n",
    "t_flag = True\n",
    "else:\n",
    "r += 1\n",
    "if r >= 10:\n",
    "print(track, \" Not found\")\n",
    "pass\n",
    "'''"
   ]
  },
  {
   "cell_type": "code",
   "execution_count": null,
   "id": "3256e146",
   "metadata": {},
   "outputs": [],
   "source": []
  }
 ],
 "metadata": {
  "kernelspec": {
   "display_name": "Python 3 (ipykernel)",
   "language": "python",
   "name": "python3"
  },
  "language_info": {
   "codemirror_mode": {
    "name": "ipython",
    "version": 3
   },
   "file_extension": ".py",
   "mimetype": "text/x-python",
   "name": "python",
   "nbconvert_exporter": "python",
   "pygments_lexer": "ipython3",
   "version": "3.11.5"
  }
 },
 "nbformat": 4,
 "nbformat_minor": 5
}
